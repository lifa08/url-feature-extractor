{
 "cells": [
  {
   "cell_type": "markdown",
   "metadata": {},
   "source": [
    "```!pip install tldextract```"
   ]
  },
  {
   "cell_type": "code",
   "execution_count": 20,
   "metadata": {},
   "outputs": [],
   "source": [
    "import requests\n",
    "import json\n",
    "from urllib.parse import urlparse\n",
    "import pandas as pd\n",
    "import tldextract"
   ]
  },
  {
   "cell_type": "code",
   "execution_count": 2,
   "metadata": {},
   "outputs": [],
   "source": [
    "def validate_ip(s):\n",
    "    a = s.split('.')\n",
    "    if len(a) != 4:\n",
    "        return False\n",
    "    for x in a:\n",
    "        if not x.isdigit():\n",
    "            return False\n",
    "        i = int(x)\n",
    "        if i < 0 or i > 255:\n",
    "            return False\n",
    "    return True"
   ]
  },
  {
   "cell_type": "code",
   "execution_count": 3,
   "metadata": {},
   "outputs": [
    {
     "data": {
      "text/plain": [
       "False"
      ]
     },
     "execution_count": 3,
     "metadata": {},
     "output_type": "execute_result"
    }
   ],
   "source": [
    "validate_ip('www.slideshare.net')\n",
    "validate_ip('127.0.0.1')\n",
    "validate_ip('222.999.0.1')"
   ]
  },
  {
   "cell_type": "markdown",
   "metadata": {},
   "source": [
    "Components includes following components and is shown in this image ![URL structure](url_structure.png)\n",
    "\n",
    "- FQDN: Fully Qualified Domain Name\n",
    "- mld: main level domain\n",
    "- FreeURL\n",
    "- RDN: Registered Domain Name\n",
    "\n",
    "[ref](https://arxiv.org/pdf/1510.06501.pdf)"
   ]
  },
  {
   "cell_type": "code",
   "execution_count": 84,
   "metadata": {},
   "outputs": [],
   "source": [
    "def parse_url_components(url):\n",
    "    ext_result = tldextract.extract(url)\n",
    "    FQDN = '.'.join(part for part in ext_result if part)\n",
    "    mld = ext_result.domain\n",
    "    RDN = ext_result.registered_domain\n",
    "\n",
    "    FreeURL = ext_result.subdomain + ',' + url.split(FQDN)[1]\n",
    "    protocol = url.split(\"://\")[0]\n",
    "\n",
    "    url_components = {'protocol': protocol,'FQDN': FQDN, 'RDN': RDN, 'mld': mld, 'FreeURL': FreeURL}\n",
    "    return url_components"
   ]
  },
  {
   "cell_type": "code",
   "execution_count": 85,
   "metadata": {},
   "outputs": [
    {
     "data": {
      "text/plain": [
       "{'protocol': 'http',\n",
       " 'FQDN': 'college-eisk.ru',\n",
       " 'RDN': 'college-eisk.ru',\n",
       " 'mld': 'college-eisk',\n",
       " 'FreeURL': ',/cli/'}"
      ]
     },
     "execution_count": 85,
     "metadata": {},
     "output_type": "execute_result"
    }
   ],
   "source": [
    "test_url = \"http://college-eisk.ru/cli/\"\n",
    "parse_url_components(test_url)"
   ]
  },
  {
   "cell_type": "code",
   "execution_count": 5,
   "metadata": {},
   "outputs": [],
   "source": [
    "def get_domain_age_in_days(domain):\n",
    "    show = \"https://input.payapi.io/v1/api/fraud/domain/age/\" + domain\n",
    "    data = requests.get(show).json()\n",
    "    return data['result'] if 'result' in data else None"
   ]
  },
  {
   "cell_type": "markdown",
   "metadata": {},
   "source": [
    "#### Phishing  URL  and  domain  name  obfuscation  techniques tend  to  produce  long  URLs  composed  of  many  terms. [ref](https://arxiv.org/pdf/1510.06501.pdf)"
   ]
  },
  {
   "cell_type": "code",
   "execution_count": 99,
   "metadata": {},
   "outputs": [],
   "source": [
    "def analyze_url_features(url, Majestic_million_list):\n",
    "    # RDNRank default to 1000001 for those websites that are not in the Majestic million list\n",
    "    url_features = {'url': url, 'url_length': len(url),\n",
    "                   'domain_age':None, 'IP_based': False,\n",
    "                    'FreeURL_dot_cnt': 0, 'level_domain_cnt': None,\n",
    "                   'FQDN_length': None, 'mld_length': None,\n",
    "                   'url_terms_cnt': 0, 'RDNRank': 1000001}\n",
    "\n",
    "    url_components = parse_url_components(url)\n",
    "\n",
    "    url_features['IP_based'] = validate_ip(url_components['FQDN'])\n",
    "    # url has domain\n",
    "    if not url_features['IP_based']:    \n",
    "        domain_age = get_domain_age_in_days(url_components['RDN'])\n",
    "        url_features['domain_age'] = domain_age if domain_age else None\n",
    "\n",
    "        url_features['level_domain_cnt'] = url_components['FQDN'].count('.') + 1\n",
    "        url_features['FQDN_length'] = len(url_components['FQDN'])\n",
    "        url_features['mld_length'] = len(url_components['mld'])\n",
    "\n",
    "        # url_terms_cnt = the number of terms in FQDN + the number of terms in the remaining part of url\n",
    "        for FQDN_part in url_components['FQDN'].split('.'):\n",
    "            url_features['url_terms_cnt'] += len(FQDN_part.split('-'))\n",
    "\n",
    "\n",
    "    url_features['FreeURL_dot_cnt'] = url_components['FreeURL'].count('.')\n",
    "\n",
    "    # url_terms_cnt = the number of terms in FQDN + the number of terms in the remaining part of url\n",
    "    for parts in url_components['FreeURL'].split(',')[1:]:\n",
    "        for part in parts.split('/'):\n",
    "            if part:\n",
    "                url_features['url_terms_cnt'] += len(part.split('-'))\n",
    "\n",
    "    RDN_row = Majestic_million_list[Majestic_million_list['Domain'] == url_components['RDN']]\n",
    "    if len(RDN_row):\n",
    "        url_features['RDNRank'] = RDN_row.iloc[0]['GlobalRank']\n",
    "\n",
    "    #print(url_features)\n",
    "    return url_features"
   ]
  },
  {
   "cell_type": "code",
   "execution_count": 42,
   "metadata": {},
   "outputs": [],
   "source": [
    "Majestic_million_list = pd.read_csv(\"majestic_million.csv\")[['GlobalRank', 'Domain']]"
   ]
  },
  {
   "cell_type": "code",
   "execution_count": 43,
   "metadata": {},
   "outputs": [
    {
     "data": {
      "text/html": [
       "<div>\n",
       "<style scoped>\n",
       "    .dataframe tbody tr th:only-of-type {\n",
       "        vertical-align: middle;\n",
       "    }\n",
       "\n",
       "    .dataframe tbody tr th {\n",
       "        vertical-align: top;\n",
       "    }\n",
       "\n",
       "    .dataframe thead th {\n",
       "        text-align: right;\n",
       "    }\n",
       "</style>\n",
       "<table border=\"1\" class=\"dataframe\">\n",
       "  <thead>\n",
       "    <tr style=\"text-align: right;\">\n",
       "      <th></th>\n",
       "      <th>GlobalRank</th>\n",
       "      <th>Domain</th>\n",
       "    </tr>\n",
       "  </thead>\n",
       "  <tbody>\n",
       "    <tr>\n",
       "      <td>0</td>\n",
       "      <td>1</td>\n",
       "      <td>facebook.com</td>\n",
       "    </tr>\n",
       "    <tr>\n",
       "      <td>1</td>\n",
       "      <td>2</td>\n",
       "      <td>google.com</td>\n",
       "    </tr>\n",
       "    <tr>\n",
       "      <td>2</td>\n",
       "      <td>3</td>\n",
       "      <td>youtube.com</td>\n",
       "    </tr>\n",
       "    <tr>\n",
       "      <td>3</td>\n",
       "      <td>4</td>\n",
       "      <td>twitter.com</td>\n",
       "    </tr>\n",
       "    <tr>\n",
       "      <td>4</td>\n",
       "      <td>5</td>\n",
       "      <td>instagram.com</td>\n",
       "    </tr>\n",
       "  </tbody>\n",
       "</table>\n",
       "</div>"
      ],
      "text/plain": [
       "   GlobalRank         Domain\n",
       "0           1   facebook.com\n",
       "1           2     google.com\n",
       "2           3    youtube.com\n",
       "3           4    twitter.com\n",
       "4           5  instagram.com"
      ]
     },
     "execution_count": 43,
     "metadata": {},
     "output_type": "execute_result"
    }
   ],
   "source": [
    "Majestic_million_list.head()"
   ]
  },
  {
   "cell_type": "code",
   "execution_count": 103,
   "metadata": {},
   "outputs": [
    {
     "data": {
      "text/plain": [
       "{'url': 'https://www.slideshare.net/weaveworks/client-side-monitoring-with-prometheus',\n",
       " 'url_length': 76,\n",
       " 'domain_age': 5106,\n",
       " 'IP_based': False,\n",
       " 'FreeURL_dot_cnt': 0,\n",
       " 'level_domain_cnt': 3,\n",
       " 'FQDN_length': 18,\n",
       " 'mld_length': 10,\n",
       " 'url_terms_cnt': 9,\n",
       " 'RDNRank': 91}"
      ]
     },
     "execution_count": 103,
     "metadata": {},
     "output_type": "execute_result"
    }
   ],
   "source": [
    "test_url = \"https://www.slideshare.net/weaveworks/client-side-monitoring-with-prometheus\"\n",
    "analyze_url_features(test_url, Majestic_million_list)"
   ]
  },
  {
   "cell_type": "code",
   "execution_count": 100,
   "metadata": {},
   "outputs": [],
   "source": [
    "# Note some of these urls are live phishing sites (as of 2019-03-21) use with caution!\n",
    "# More can be found at https://www.phishtank.com/\n",
    "example_urls = [\"https://www.slideshare.net/weaveworks/client-side-monitoring-with-prometheus\",\n",
    "                \"http://cartaobndes.gov.br.cv31792.tmweb.ru/\",\n",
    "                \"https://paypal.co.uk.yatn.eu/m/\",\n",
    "                \"http://college-eisk.ru/cli/\",\n",
    "                \"https://dotpay-platnosc3.eu/dotpay/\",\n",
    "                \"https://www.amazon.co.uk/ap/signin?encoding=UTF8\",\n",
    "                \"http://192.168.0.1/paypal.cgi?fixaccount\"\n",
    "               ]\n",
    "\n",
    "urls_features = []\n",
    "for url in example_urls:\n",
    "    urls_features.append(analyze_url_features(url, Majestic_million_list))\n",
    "\n",
    "#print(urls_features)"
   ]
  },
  {
   "cell_type": "code",
   "execution_count": 101,
   "metadata": {},
   "outputs": [],
   "source": [
    "urls_features_df = pd.DataFrame(urls_features)"
   ]
  },
  {
   "cell_type": "code",
   "execution_count": 102,
   "metadata": {},
   "outputs": [
    {
     "data": {
      "text/html": [
       "<div>\n",
       "<style scoped>\n",
       "    .dataframe tbody tr th:only-of-type {\n",
       "        vertical-align: middle;\n",
       "    }\n",
       "\n",
       "    .dataframe tbody tr th {\n",
       "        vertical-align: top;\n",
       "    }\n",
       "\n",
       "    .dataframe thead th {\n",
       "        text-align: right;\n",
       "    }\n",
       "</style>\n",
       "<table border=\"1\" class=\"dataframe\">\n",
       "  <thead>\n",
       "    <tr style=\"text-align: right;\">\n",
       "      <th></th>\n",
       "      <th>url</th>\n",
       "      <th>url_length</th>\n",
       "      <th>domain_age</th>\n",
       "      <th>IP_based</th>\n",
       "      <th>FreeURL_dot_cnt</th>\n",
       "      <th>level_domain_cnt</th>\n",
       "      <th>FQDN_length</th>\n",
       "      <th>mld_length</th>\n",
       "      <th>url_terms_cnt</th>\n",
       "      <th>RDNRank</th>\n",
       "    </tr>\n",
       "  </thead>\n",
       "  <tbody>\n",
       "    <tr>\n",
       "      <td>0</td>\n",
       "      <td>https://www.slideshare.net/weaveworks/client-s...</td>\n",
       "      <td>76</td>\n",
       "      <td>5106.0</td>\n",
       "      <td>False</td>\n",
       "      <td>0</td>\n",
       "      <td>3.0</td>\n",
       "      <td>18.0</td>\n",
       "      <td>10.0</td>\n",
       "      <td>9</td>\n",
       "      <td>91</td>\n",
       "    </tr>\n",
       "    <tr>\n",
       "      <td>1</td>\n",
       "      <td>http://cartaobndes.gov.br.cv31792.tmweb.ru/</td>\n",
       "      <td>43</td>\n",
       "      <td>5020.0</td>\n",
       "      <td>False</td>\n",
       "      <td>3</td>\n",
       "      <td>6.0</td>\n",
       "      <td>35.0</td>\n",
       "      <td>5.0</td>\n",
       "      <td>6</td>\n",
       "      <td>3910</td>\n",
       "    </tr>\n",
       "    <tr>\n",
       "      <td>2</td>\n",
       "      <td>https://paypal.co.uk.yatn.eu/m/</td>\n",
       "      <td>31</td>\n",
       "      <td>NaN</td>\n",
       "      <td>False</td>\n",
       "      <td>2</td>\n",
       "      <td>5.0</td>\n",
       "      <td>20.0</td>\n",
       "      <td>4.0</td>\n",
       "      <td>6</td>\n",
       "      <td>1000001</td>\n",
       "    </tr>\n",
       "    <tr>\n",
       "      <td>3</td>\n",
       "      <td>http://college-eisk.ru/cli/</td>\n",
       "      <td>27</td>\n",
       "      <td>3088.0</td>\n",
       "      <td>False</td>\n",
       "      <td>0</td>\n",
       "      <td>2.0</td>\n",
       "      <td>15.0</td>\n",
       "      <td>12.0</td>\n",
       "      <td>4</td>\n",
       "      <td>1000001</td>\n",
       "    </tr>\n",
       "    <tr>\n",
       "      <td>4</td>\n",
       "      <td>https://dotpay-platnosc3.eu/dotpay/</td>\n",
       "      <td>35</td>\n",
       "      <td>NaN</td>\n",
       "      <td>False</td>\n",
       "      <td>0</td>\n",
       "      <td>2.0</td>\n",
       "      <td>19.0</td>\n",
       "      <td>16.0</td>\n",
       "      <td>4</td>\n",
       "      <td>1000001</td>\n",
       "    </tr>\n",
       "    <tr>\n",
       "      <td>5</td>\n",
       "      <td>https://www.amazon.co.uk/ap/signin?encoding=UTF8</td>\n",
       "      <td>48</td>\n",
       "      <td>8640.0</td>\n",
       "      <td>False</td>\n",
       "      <td>0</td>\n",
       "      <td>4.0</td>\n",
       "      <td>16.0</td>\n",
       "      <td>6.0</td>\n",
       "      <td>6</td>\n",
       "      <td>194</td>\n",
       "    </tr>\n",
       "    <tr>\n",
       "      <td>6</td>\n",
       "      <td>http://192.168.0.1/paypal.cgi?fixaccount</td>\n",
       "      <td>40</td>\n",
       "      <td>NaN</td>\n",
       "      <td>True</td>\n",
       "      <td>1</td>\n",
       "      <td>NaN</td>\n",
       "      <td>NaN</td>\n",
       "      <td>NaN</td>\n",
       "      <td>1</td>\n",
       "      <td>1000001</td>\n",
       "    </tr>\n",
       "  </tbody>\n",
       "</table>\n",
       "</div>"
      ],
      "text/plain": [
       "                                                 url  url_length  domain_age  \\\n",
       "0  https://www.slideshare.net/weaveworks/client-s...          76      5106.0   \n",
       "1        http://cartaobndes.gov.br.cv31792.tmweb.ru/          43      5020.0   \n",
       "2                    https://paypal.co.uk.yatn.eu/m/          31         NaN   \n",
       "3                        http://college-eisk.ru/cli/          27      3088.0   \n",
       "4                https://dotpay-platnosc3.eu/dotpay/          35         NaN   \n",
       "5   https://www.amazon.co.uk/ap/signin?encoding=UTF8          48      8640.0   \n",
       "6           http://192.168.0.1/paypal.cgi?fixaccount          40         NaN   \n",
       "\n",
       "   IP_based  FreeURL_dot_cnt  level_domain_cnt  FQDN_length  mld_length  \\\n",
       "0     False                0               3.0         18.0        10.0   \n",
       "1     False                3               6.0         35.0         5.0   \n",
       "2     False                2               5.0         20.0         4.0   \n",
       "3     False                0               2.0         15.0        12.0   \n",
       "4     False                0               2.0         19.0        16.0   \n",
       "5     False                0               4.0         16.0         6.0   \n",
       "6      True                1               NaN          NaN         NaN   \n",
       "\n",
       "   url_terms_cnt  RDNRank  \n",
       "0              9       91  \n",
       "1              6     3910  \n",
       "2              6  1000001  \n",
       "3              4  1000001  \n",
       "4              4  1000001  \n",
       "5              6      194  \n",
       "6              1  1000001  "
      ]
     },
     "execution_count": 102,
     "metadata": {},
     "output_type": "execute_result"
    }
   ],
   "source": [
    "urls_features_df.head(7)"
   ]
  },
  {
   "cell_type": "code",
   "execution_count": 12,
   "metadata": {},
   "outputs": [],
   "source": [
    "# write the extracted features to csv file\n",
    "urls_features_df.to_csv ('url_features.csv', index = False, header=True)"
   ]
  },
  {
   "cell_type": "markdown",
   "metadata": {},
   "source": [
    "The original majestic_million file contains many unnecessary columns for this project and is too large\n",
    "so here we keep only necessary columns\n",
    "\n",
    "\n",
    "```Majestic_million_list = pd.read_csv(\"majestic_million.csv\")[['GlobalRank', 'Domain']]\n",
    "Majestic_million_list.to_csv ('majestic_million.csv', index = True, header=True)```"
   ]
  },
  {
   "cell_type": "markdown",
   "metadata": {},
   "source": [
    "## Compute feature sets by comparing the characteristics of the input page and those of the homepag. Ref from [DeltaPhish](https://arxiv.org/pdf/1707.00317.pdf)"
   ]
  },
  {
   "cell_type": "markdown",
   "metadata": {},
   "source": [
    "Install necessary libraries\n",
    "```\n",
    "!pip install lxml\n",
    "!pip install requests\n",
    "```"
   ]
  },
  {
   "cell_type": "code",
   "execution_count": 14,
   "metadata": {},
   "outputs": [],
   "source": [
    "from lxml import html"
   ]
  },
  {
   "cell_type": "code",
   "execution_count": null,
   "metadata": {},
   "outputs": [],
   "source": [
    "def get_website_hyperlinks(website_url):\n",
    "    page = requests.get(website_url)\n",
    "    page_content = page.content.decode(page.encoding)\n",
    "    tree = html.fromstring(page_content)\n",
    "    hyperlinks = []\n",
    "    for atag in tree.xpath('//a'):\n",
    "        hyperlinks.append(atag.attrib['href'])\n",
    "        # print(atag.attrib['href'], atag.text_content())\n",
    "    return hyperlinks"
   ]
  },
  {
   "cell_type": "code",
   "execution_count": null,
   "metadata": {},
   "outputs": [],
   "source": [
    "homepage_url = 'https://www.google.com/'\n",
    "homepage_hyperlinks = get_website_hyperlinks(website_url)"
   ]
  },
  {
   "cell_type": "code",
   "execution_count": null,
   "metadata": {},
   "outputs": [],
   "source": [
    "def jaccard_similarity(list1, list2):\n",
    "    s1 = set(list1)\n",
    "    s2 = set(list2)\n",
    "    return len(s1.intersection(s2)) / len(s1.union(s2))"
   ]
  },
  {
   "cell_type": "code",
   "execution_count": null,
   "metadata": {},
   "outputs": [],
   "source": [
    "inputpage_url = 'https://calendar.google.com/calendar/r?tab=wc'\n",
    "inputpage_hyperlinks = get_website_hyperlinks(inputpage_url)"
   ]
  },
  {
   "cell_type": "code",
   "execution_count": null,
   "metadata": {},
   "outputs": [],
   "source": [
    "jaccard_similarity(homepage_hyperlinks, inputpage_hyperlinks)"
   ]
  },
  {
   "cell_type": "code",
   "execution_count": null,
   "metadata": {},
   "outputs": [],
   "source": [
    "print(homepage_hyperlinks)"
   ]
  },
  {
   "cell_type": "code",
   "execution_count": null,
   "metadata": {},
   "outputs": [],
   "source": [
    "print(inputpage_hyperlinks)"
   ]
  },
  {
   "cell_type": "code",
   "execution_count": null,
   "metadata": {},
   "outputs": [],
   "source": [
    "len(set(homepage_hyperlinks).intersection(inputpage_hyperlinks))"
   ]
  },
  {
   "cell_type": "markdown",
   "metadata": {},
   "source": [
    "#### About relative url and absolute url [here](http://www.dirigodev.com/blog/seo-web-best-practices/relative-vs-absolute-urls-seo/)\n"
   ]
  },
  {
   "cell_type": "code",
   "execution_count": null,
   "metadata": {},
   "outputs": [],
   "source": [
    "def get_second_level_domain(url):\n",
    "    parse_result = urlparse(url)\n",
    "    domain = parse_result.netloc\n",
    "\n",
    "    second_level_domain = '.'.join(domain.split('.')[-2:])\n",
    "    return second_level_domain"
   ]
  },
  {
   "cell_type": "code",
   "execution_count": null,
   "metadata": {},
   "outputs": [],
   "source": [
    "# 2LD (second-level  domain)\n",
    "inputpage_2LDs = []\n",
    "for url in inputpage_hyperlinks:\n",
    "    sencond_level_domain = get_second_level_domain(url)\n",
    "    if sencond_level_domain:\n",
    "        inputpage_2LDs.append(sencond_level_domain)\n",
    "    else:\n",
    "        inputpage_2LDs.append(get_second_level_domain(inputpage_url))"
   ]
  },
  {
   "cell_type": "code",
   "execution_count": null,
   "metadata": {},
   "outputs": [],
   "source": [
    "homepage_2LDs = []\n",
    "for url in homepage_hyperlinks:\n",
    "    sencond_level_domain = get_second_level_domain(url)\n",
    "    if sencond_level_domain:\n",
    "        homepage_2LDs.append(sencond_level_domain)\n",
    "    # relative url\n",
    "    else:\n",
    "        homepage_2LDs.append(get_second_level_domain(homepage_url))"
   ]
  },
  {
   "cell_type": "code",
   "execution_count": null,
   "metadata": {},
   "outputs": [],
   "source": [
    "print(set(homepage_2LDs))"
   ]
  },
  {
   "cell_type": "code",
   "execution_count": null,
   "metadata": {},
   "outputs": [],
   "source": [
    "print(homepage_2LDs)"
   ]
  },
  {
   "cell_type": "code",
   "execution_count": null,
   "metadata": {},
   "outputs": [],
   "source": [
    "print(set(inputpage_2LDs))"
   ]
  },
  {
   "cell_type": "code",
   "execution_count": null,
   "metadata": {},
   "outputs": [],
   "source": [
    "jaccard_similarity(homepage_2LDs, inputpage_2LDs)"
   ]
  },
  {
   "cell_type": "markdown",
   "metadata": {},
   "source": [
    "### Style tags"
   ]
  },
  {
   "cell_type": "code",
   "execution_count": null,
   "metadata": {},
   "outputs": [],
   "source": [
    "def get_website_style_tags(website_url):\n",
    "    page = requests.get(website_url)\n",
    "    page_content = page.content.decode(page.encoding)\n",
    "    tree = html.fromstring(page_content)\n",
    "    style_tags = []\n",
    "    for element in tree.xpath('//@style'):\n",
    "        # print(element)\n",
    "        style_tags.append(element)\n",
    "    return style_tags"
   ]
  },
  {
   "cell_type": "code",
   "execution_count": null,
   "metadata": {},
   "outputs": [],
   "source": [
    "homepage_url = 'https://www.google.com/'\n",
    "homepage_styles = get_website_style_tags(homepage_url)"
   ]
  },
  {
   "cell_type": "code",
   "execution_count": null,
   "metadata": {},
   "outputs": [],
   "source": [
    "inputpage_url = 'https://calendar.google.com/calendar/r?tab=wc'\n",
    "inputpage_styles = get_website_style_tags(inputpage_url)"
   ]
  },
  {
   "cell_type": "code",
   "execution_count": null,
   "metadata": {},
   "outputs": [],
   "source": [
    "print(inputpage_styles)"
   ]
  },
  {
   "cell_type": "code",
   "execution_count": null,
   "metadata": {},
   "outputs": [],
   "source": [
    "print(homepage_styles)"
   ]
  },
  {
   "cell_type": "code",
   "execution_count": null,
   "metadata": {},
   "outputs": [],
   "source": [
    "jaccard_similarity(homepage_styles, inputpage_styles)"
   ]
  },
  {
   "cell_type": "markdown",
   "metadata": {},
   "source": [
    "### external  style  sheets"
   ]
  },
  {
   "cell_type": "code",
   "execution_count": null,
   "metadata": {},
   "outputs": [],
   "source": [
    "# SSURL: external  style  sheets\n",
    "def get_website_SSURL(website_url):\n",
    "    page = requests.get(website_url)\n",
    "    page_content = page.content.decode(page.encoding)\n",
    "    tree = html.fromstring(page_content)\n",
    "    SS_URLs = []\n",
    "    for linktag in tree.xpath('//link[@rel=\"stylesheet\" or @type=\"text/css\"]'):\n",
    "        SS_URLs.append(linktag.attrib['href'])\n",
    "    return SS_URLs"
   ]
  },
  {
   "cell_type": "code",
   "execution_count": null,
   "metadata": {},
   "outputs": [],
   "source": [
    "homepage_SSURLs = get_website_SSURL('https://www.w3schools.com/tags/tag_link.asp')"
   ]
  },
  {
   "cell_type": "code",
   "execution_count": null,
   "metadata": {},
   "outputs": [],
   "source": [
    "print(homepage_SSURLs)"
   ]
  },
  {
   "cell_type": "markdown",
   "metadata": {},
   "source": [
    "### Image URL"
   ]
  },
  {
   "cell_type": "code",
   "execution_count": null,
   "metadata": {},
   "outputs": [],
   "source": [
    "# linked image url\n",
    "def get_website_iURLs(website_url):\n",
    "    page = requests.get(website_url)\n",
    "    page_content = page.content.decode(page.encoding)\n",
    "    tree = html.fromstring(page_content)\n",
    "    iURLs = []\n",
    "    for imgtag in tree.xpath('//img'):\n",
    "        iURLs.append(imgtag.attrib['src'])\n",
    "        #print(imgtag.attrib['src'])\n",
    "    return iURLs"
   ]
  },
  {
   "cell_type": "code",
   "execution_count": null,
   "metadata": {},
   "outputs": [],
   "source": [
    "hompage_iurls = get_website_iURLs(homepage_url)"
   ]
  },
  {
   "cell_type": "code",
   "execution_count": null,
   "metadata": {},
   "outputs": [],
   "source": [
    "print(hompage_iurls)"
   ]
  },
  {
   "cell_type": "code",
   "execution_count": null,
   "metadata": {},
   "outputs": [],
   "source": [
    "inputpage_iurls = get_website_iURLs(inputpage_url)"
   ]
  },
  {
   "cell_type": "code",
   "execution_count": null,
   "metadata": {},
   "outputs": [],
   "source": [
    "print(inputpage_iurls)"
   ]
  },
  {
   "cell_type": "code",
   "execution_count": null,
   "metadata": {},
   "outputs": [],
   "source": [
    "jaccard_similarity(hompage_iurls, inputpage_iurls)"
   ]
  },
  {
   "cell_type": "markdown",
   "metadata": {},
   "source": [
    "### Title"
   ]
  },
  {
   "cell_type": "code",
   "execution_count": null,
   "metadata": {},
   "outputs": [],
   "source": [
    "def get_website_title(website_url):\n",
    "    page = requests.get(website_url)\n",
    "    page_content = page.content.decode(page.encoding)\n",
    "    tree = html.fromstring(page_content)\n",
    "    return tree.xpath('//title')[0].text_content()"
   ]
  },
  {
   "cell_type": "code",
   "execution_count": null,
   "metadata": {},
   "outputs": [],
   "source": [
    "get_website_title(homepage_url)"
   ]
  },
  {
   "cell_type": "code",
   "execution_count": null,
   "metadata": {},
   "outputs": [],
   "source": [
    "get_website_title(inputpage_url)"
   ]
  },
  {
   "cell_type": "markdown",
   "metadata": {},
   "source": [
    "### X-links"
   ]
  },
  {
   "cell_type": "code",
   "execution_count": null,
   "metadata": {},
   "outputs": [],
   "source": [
    "x_link = True if homepage_url in inputpage_hyperlinks else False"
   ]
  },
  {
   "cell_type": "code",
   "execution_count": null,
   "metadata": {},
   "outputs": [],
   "source": [
    "print(x_link)"
   ]
  }
 ],
 "metadata": {
  "kernelspec": {
   "display_name": "Python 3",
   "language": "python",
   "name": "python3"
  },
  "language_info": {
   "codemirror_mode": {
    "name": "ipython",
    "version": 3
   },
   "file_extension": ".py",
   "mimetype": "text/x-python",
   "name": "python",
   "nbconvert_exporter": "python",
   "pygments_lexer": "ipython3",
   "version": "3.7.4"
  }
 },
 "nbformat": 4,
 "nbformat_minor": 2
}
