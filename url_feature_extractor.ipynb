{
 "cells": [
  {
   "cell_type": "code",
   "execution_count": 39,
   "metadata": {},
   "outputs": [],
   "source": [
    "import requests\n",
    "import json\n",
    "from urllib.parse import urlparse\n",
    "import pandas as pd\n",
    "import tldextract\n",
    "import os\n",
    "import xml.etree.ElementTree as ET\n",
    "from pysafebrowsing import SafeBrowsing\n",
    "import whois\n",
    "from lxml import html\n",
    "import html2text\n",
    "import re\n",
    "import time\n",
    "import datetime"
   ]
  },
  {
   "cell_type": "code",
   "execution_count": 2,
   "metadata": {},
   "outputs": [],
   "source": [
    "def validate_ip(s):\n",
    "    a = s.split('.')\n",
    "    if len(a) != 4:\n",
    "        return False\n",
    "    for x in a:\n",
    "        if not x.isdigit():\n",
    "            return False\n",
    "        i = int(x)\n",
    "        if i < 0 or i > 255:\n",
    "            return False\n",
    "    return True"
   ]
  },
  {
   "cell_type": "code",
   "execution_count": 3,
   "metadata": {},
   "outputs": [
    {
     "data": {
      "text/plain": [
       "False"
      ]
     },
     "execution_count": 3,
     "metadata": {},
     "output_type": "execute_result"
    }
   ],
   "source": [
    "validate_ip('www.slideshare.net')\n",
    "validate_ip('127.0.0.1')\n",
    "validate_ip('222.999.0.1')"
   ]
  },
  {
   "cell_type": "markdown",
   "metadata": {},
   "source": [
    "Components includes following components and is shown in this image ![URL structure](url_structure.png)\n",
    "\n",
    "- FQDN: Fully Qualified Domain Name\n",
    "- mld: main level domain\n",
    "- FreeURL\n",
    "- RDN: Registered Domain Name\n",
    "\n",
    "[ref](https://arxiv.org/pdf/1510.06501.pdf)"
   ]
  },
  {
   "cell_type": "code",
   "execution_count": 4,
   "metadata": {},
   "outputs": [],
   "source": [
    "def parse_url_components(url):\n",
    "    ext_result = tldextract.extract(url)\n",
    "    FQDN = '.'.join(part for part in ext_result if part)\n",
    "    mld = ext_result.domain\n",
    "    RDN = ext_result.registered_domain\n",
    "\n",
    "    FreeURL = ext_result.subdomain + ',' + url.split(FQDN)[1]\n",
    "    protocol = url.split(\"://\")[0]\n",
    "\n",
    "    url_components = {'protocol': protocol,'FQDN': FQDN, 'RDN': RDN, 'mld': mld, 'FreeURL': FreeURL}\n",
    "    return url_components"
   ]
  },
  {
   "cell_type": "code",
   "execution_count": 5,
   "metadata": {},
   "outputs": [
    {
     "data": {
      "text/plain": [
       "{'protocol': 'http',\n",
       " 'FQDN': 'college-eisk.ru',\n",
       " 'RDN': 'college-eisk.ru',\n",
       " 'mld': 'college-eisk',\n",
       " 'FreeURL': ',/cli/'}"
      ]
     },
     "execution_count": 5,
     "metadata": {},
     "output_type": "execute_result"
    }
   ],
   "source": [
    "test_url = \"http://college-eisk.ru/cli/\"\n",
    "parse_url_components(test_url)"
   ]
  },
  {
   "cell_type": "code",
   "execution_count": 6,
   "metadata": {},
   "outputs": [],
   "source": [
    "def get_domain_age_in_days(domain):\n",
    "    show = \"https://input.payapi.io/v1/api/fraud/domain/age/\" + domain\n",
    "    data = requests.get(show).json()\n",
    "    return data['result'] if 'result' in data else None"
   ]
  },
  {
   "cell_type": "markdown",
   "metadata": {},
   "source": [
    "### PhishTank and Google Safebrowsing blacklist\n",
    "\n",
    "Note: Safebrowsing API needs to be activated in google cloud before it can be correctly used and google API key is exported in the console environment since it is more secure than writing it here."
   ]
  },
  {
   "cell_type": "code",
   "execution_count": 7,
   "metadata": {},
   "outputs": [],
   "source": [
    "# This API does not seem like working correctly. It marks Twitter and Google as phishing.\n",
    "def is_phishtank_blacklisted(url):\n",
    "    response = requests.post('https://checkurl.phishtank.com/checkurl/index.php?url=' + url)\n",
    "    # print(response.text)\n",
    "    res = response.content.decode(response.encoding)\n",
    "    root = ET.fromstring(res)\n",
    "\n",
    "    result = root.find('results').find('url0')\n",
    "    is_blacklisted = result.find('in_database').text\n",
    "    return True if is_blacklisted == 'true' else False"
   ]
  },
  {
   "cell_type": "code",
   "execution_count": 8,
   "metadata": {},
   "outputs": [
    {
     "data": {
      "text/plain": [
       "True"
      ]
     },
     "execution_count": 8,
     "metadata": {},
     "output_type": "execute_result"
    }
   ],
   "source": [
    "test_url = \"https://paypal.co.uk.yatn.eu/m/\"\n",
    "is_phishtank_blacklisted(test_url)"
   ]
  },
  {
   "cell_type": "code",
   "execution_count": 9,
   "metadata": {},
   "outputs": [],
   "source": [
    "def is_malicious_in_google_safebrowsing(url):\n",
    "    googleapikey = os.environ['GOOGLEAPIKEY']\n",
    "    s = SafeBrowsing(googleapikey)\n",
    "    response = s.lookup_urls([url])\n",
    "    # print(response)\n",
    "    return (response[url]['malicious'])"
   ]
  },
  {
   "cell_type": "code",
   "execution_count": 10,
   "metadata": {},
   "outputs": [
    {
     "data": {
      "text/plain": [
       "True"
      ]
     },
     "execution_count": 10,
     "metadata": {},
     "output_type": "execute_result"
    }
   ],
   "source": [
    "test_url = 'http://malware.testing.google.test/testing/malware/'\n",
    "is_malicious_in_google_safebrowsing(test_url)"
   ]
  },
  {
   "cell_type": "code",
   "execution_count": 11,
   "metadata": {},
   "outputs": [],
   "source": [
    "# Note: there is limitation how much request you can send to virustotal API, so when you have mutiple\n",
    "# urls to check, better to use time.sleep() between callings to this function\n",
    "def is_malicious_in_virustotal(url):\n",
    "    virustotal_apikey = os.environ['VIRUSTOTALKEY']\n",
    "    params = {'apikey': virustotal_apikey, 'resource': url}\n",
    "    response = requests.post('https://www.virustotal.com/vtapi/v2/url/report', data=params)\n",
    "    return True if response.json()['positives'] else False"
   ]
  },
  {
   "cell_type": "code",
   "execution_count": 12,
   "metadata": {},
   "outputs": [
    {
     "data": {
      "text/plain": [
       "False"
      ]
     },
     "execution_count": 12,
     "metadata": {},
     "output_type": "execute_result"
    }
   ],
   "source": [
    "test_url = \"https://www.slideshare.net/weaveworks/client-side-monitoring-with-prometheus\"\n",
    "is_malicious_in_virustotal(test_url)"
   ]
  },
  {
   "cell_type": "code",
   "execution_count": null,
   "metadata": {},
   "outputs": [],
   "source": [
    "example_urls = [\"http://twitter.com/\",\n",
    "                \"http://github.com\",\n",
    "                \"http://www.yahoo.com/\",\n",
    "                \"http://www.google.com/\",\n",
    "                \"https://www.amazon.co.uk/ap/signin?encoding=UTF8\"\n",
    "               ]\n",
    "for url in example_urls:\n",
    "    print(is_malicious_in_virustotal(url))\n",
    "    print(is_malicious_in_google_safebrowsing(url))\n",
    "    print(is_malicious_in_virustotal(url) or is_malicious_in_google_safebrowsing(url))\n",
    "    time.sleep(40) "
   ]
  },
  {
   "cell_type": "markdown",
   "metadata": {},
   "source": [
    "### WHOIS features\n",
    "\n",
    "- Name of the domain provider\n",
    "- Ownership period"
   ]
  },
  {
   "cell_type": "code",
   "execution_count": 65,
   "metadata": {},
   "outputs": [],
   "source": [
    "def get_domain_related_features(domain, url_features):\n",
    "    domain_info = whois.whois(domain)\n",
    "    if not domain_info:\n",
    "        return\n",
    "\n",
    "    # print(domain_info.__dict__)\n",
    "    url_features['domain_provider'] = domain_info.registrar if domain_info.registrar else None\n",
    "\n",
    "    if (isinstance(domain_info.expiration_date, list) and\n",
    "        isinstance(domain_info.creation_date, list)):\n",
    "            if (isinstance(domain_info.expiration_date[0], datetime.datetime) and\n",
    "                isinstance(domain_info.creation_date[0], datetime.datetime)):\n",
    "                url_features['domain_valid_period'] = (domain_info.expiration_date[0] - \n",
    "                                                       domain_info.creation_date[0]).days\n",
    "\n",
    "    elif (isinstance(domain_info.expiration_date, datetime.datetime) and\n",
    "          isinstance(domain_info.creation_date, datetime.datetime)):\n",
    "        url_features['domain_valid_period'] = (domain_info.expiration_date - \n",
    "                                               domain_info.creation_date).days"
   ]
  },
  {
   "cell_type": "markdown",
   "metadata": {},
   "source": [
    "#### Phishing  URL  and  domain  name  obfuscation  techniques tend  to  produce  long  URLs  composed  of  many  terms. [ref](https://arxiv.org/pdf/1510.06501.pdf)"
   ]
  },
  {
   "cell_type": "code",
   "execution_count": 66,
   "metadata": {},
   "outputs": [],
   "source": [
    "def analyze_url_features(url, Majestic_million_list):\n",
    "    # RDNRank default to 1000001 for those websites that are not in the Majestic million list\n",
    "    url_features = {'url': url, 'url_length': len(url),\n",
    "                    'is_blacklisted': False, 'is_IPbased': False,\n",
    "                    'domain_age':None, 'FreeURL_dot_cnt': 0,\n",
    "                    'level_domain_cnt': None, 'FQDN_length': None,\n",
    "                    'mld_length': None, 'url_terms_cnt': 0,\n",
    "                    'RDNRank': 1000001, 'domain_provider': None,\n",
    "                    'domain_valid_period': None\n",
    "                   }\n",
    "\n",
    "    # Tried also phishtank API but it does not seem like working correctly\n",
    "    url_features['is_blacklisted'] = is_malicious_in_virustotal(url) or is_malicious_in_google_safebrowsing(url)\n",
    "\n",
    "    url_components = parse_url_components(url)\n",
    "    url_features['is_IPbased'] = validate_ip(url_components['FQDN'])\n",
    "\n",
    "    # url has domain\n",
    "    if not url_features['is_IPbased']:\n",
    "        domain_age = get_domain_age_in_days(url_components['RDN'])\n",
    "        url_features['domain_age'] = domain_age if domain_age else None\n",
    "\n",
    "        url_features['level_domain_cnt'] = url_components['FQDN'].count('.') + 1\n",
    "        url_features['FQDN_length'] = len(url_components['FQDN'])\n",
    "        url_features['mld_length'] = len(url_components['mld'])\n",
    "\n",
    "        # update the domain related features\n",
    "        get_domain_related_features(url_components['RDN'], url_features)\n",
    " \n",
    "        # url_terms_cnt = the number of terms in FQDN + the number of terms in the remaining part of url\n",
    "        for FQDN_part in url_components['FQDN'].split('.'):\n",
    "            url_features['url_terms_cnt'] += len(FQDN_part.split('-'))\n",
    "\n",
    "\n",
    "    url_features['FreeURL_dot_cnt'] = url_components['FreeURL'].count('.')\n",
    "\n",
    "    # url_terms_cnt = the number of terms in FQDN + the number of terms in the remaining part of url\n",
    "    for parts in url_components['FreeURL'].split(',')[1:]:\n",
    "        for part in parts.split('/'):\n",
    "            if part:\n",
    "                url_features['url_terms_cnt'] += len(part.split('-'))\n",
    "\n",
    "    RDN_row = Majestic_million_list[Majestic_million_list['Domain'] == url_components['RDN']]\n",
    "    if len(RDN_row):\n",
    "        url_features['RDNRank'] = RDN_row.iloc[0]['GlobalRank']\n",
    "\n",
    "    # Note the purpose here is not to have RDN as a feature, but as a way to pass it to later functions\n",
    "    # to get features related to RDN and avoid parse it again there\n",
    "    url_features['mld'] = url_components['mld']\n",
    "\n",
    "    #print(url_features)\n",
    "    return url_features"
   ]
  },
  {
   "cell_type": "code",
   "execution_count": 15,
   "metadata": {},
   "outputs": [],
   "source": [
    "Majestic_million_list = pd.read_csv(\"majestic_million.csv\")[['GlobalRank', 'Domain']]"
   ]
  },
  {
   "cell_type": "code",
   "execution_count": 16,
   "metadata": {},
   "outputs": [
    {
     "data": {
      "text/html": [
       "<div>\n",
       "<style scoped>\n",
       "    .dataframe tbody tr th:only-of-type {\n",
       "        vertical-align: middle;\n",
       "    }\n",
       "\n",
       "    .dataframe tbody tr th {\n",
       "        vertical-align: top;\n",
       "    }\n",
       "\n",
       "    .dataframe thead th {\n",
       "        text-align: right;\n",
       "    }\n",
       "</style>\n",
       "<table border=\"1\" class=\"dataframe\">\n",
       "  <thead>\n",
       "    <tr style=\"text-align: right;\">\n",
       "      <th></th>\n",
       "      <th>GlobalRank</th>\n",
       "      <th>Domain</th>\n",
       "    </tr>\n",
       "  </thead>\n",
       "  <tbody>\n",
       "    <tr>\n",
       "      <th>0</th>\n",
       "      <td>1</td>\n",
       "      <td>facebook.com</td>\n",
       "    </tr>\n",
       "    <tr>\n",
       "      <th>1</th>\n",
       "      <td>2</td>\n",
       "      <td>google.com</td>\n",
       "    </tr>\n",
       "    <tr>\n",
       "      <th>2</th>\n",
       "      <td>3</td>\n",
       "      <td>youtube.com</td>\n",
       "    </tr>\n",
       "    <tr>\n",
       "      <th>3</th>\n",
       "      <td>4</td>\n",
       "      <td>twitter.com</td>\n",
       "    </tr>\n",
       "    <tr>\n",
       "      <th>4</th>\n",
       "      <td>5</td>\n",
       "      <td>instagram.com</td>\n",
       "    </tr>\n",
       "  </tbody>\n",
       "</table>\n",
       "</div>"
      ],
      "text/plain": [
       "   GlobalRank         Domain\n",
       "0           1   facebook.com\n",
       "1           2     google.com\n",
       "2           3    youtube.com\n",
       "3           4    twitter.com\n",
       "4           5  instagram.com"
      ]
     },
     "execution_count": 16,
     "metadata": {},
     "output_type": "execute_result"
    }
   ],
   "source": [
    "Majestic_million_list.head()"
   ]
  },
  {
   "cell_type": "code",
   "execution_count": 67,
   "metadata": {},
   "outputs": [
    {
     "data": {
      "text/plain": [
       "{'url': 'https://www.amazon.co.uk/ap/signin?encoding=UTF8',\n",
       " 'url_length': 48,\n",
       " 'is_blacklisted': False,\n",
       " 'is_IPbased': False,\n",
       " 'domain_age': 8642,\n",
       " 'FreeURL_dot_cnt': 0,\n",
       " 'level_domain_cnt': 4,\n",
       " 'FQDN_length': 16,\n",
       " 'mld_length': 6,\n",
       " 'url_terms_cnt': 6,\n",
       " 'RDNRank': 194,\n",
       " 'domain_provider': 'Amazon.com, Inc. t/a Amazon.com, Inc. [Tag = AMAZON-COM]',\n",
       " 'domain_valid_period': None,\n",
       " 'mld': 'amazon'}"
      ]
     },
     "execution_count": 67,
     "metadata": {},
     "output_type": "execute_result"
    }
   ],
   "source": [
    "test_url = \"https://www.amazon.co.uk/ap/signin?encoding=UTF8\"\n",
    "analyze_url_features(test_url, Majestic_million_list)"
   ]
  },
  {
   "cell_type": "code",
   "execution_count": 68,
   "metadata": {},
   "outputs": [],
   "source": [
    "# Note some of these urls are live phishing sites (as of 2019-03-21) use with caution!\n",
    "# More can be found at https://www.phishtank.com/\n",
    "example_urls = [\"https://www.slideshare.net/weaveworks/client-side-monitoring-with-prometheus\",\n",
    "                \"http://cartaobndes.gov.br.cv31792.tmweb.ru/\",\n",
    "                \"https://paypal.co.uk.yatn.eu/m/\",\n",
    "                \"http://college-eisk.ru/cli/\",\n",
    "                \"https://dotpay-platnosc3.eu/dotpay/\",\n",
    "                \"https://www.amazon.co.uk/ap/signin?encoding=UTF8\",\n",
    "                \"http://192.168.0.1/paypal.cgi?fixaccount\"\n",
    "               ]\n",
    "\n",
    "urls_features = []\n",
    "for url in example_urls:\n",
    "    urls_features.append(analyze_url_features(url, Majestic_million_list))\n",
    "    # To curcumvent the limits set by virustotal on the API calls within a given time\n",
    "    time.sleep(30)\n",
    "#print(urls_features)"
   ]
  },
  {
   "cell_type": "code",
   "execution_count": 69,
   "metadata": {},
   "outputs": [],
   "source": [
    "urls_features_df = pd.DataFrame(urls_features)"
   ]
  },
  {
   "cell_type": "code",
   "execution_count": 70,
   "metadata": {},
   "outputs": [
    {
     "data": {
      "text/html": [
       "<div>\n",
       "<style scoped>\n",
       "    .dataframe tbody tr th:only-of-type {\n",
       "        vertical-align: middle;\n",
       "    }\n",
       "\n",
       "    .dataframe tbody tr th {\n",
       "        vertical-align: top;\n",
       "    }\n",
       "\n",
       "    .dataframe thead th {\n",
       "        text-align: right;\n",
       "    }\n",
       "</style>\n",
       "<table border=\"1\" class=\"dataframe\">\n",
       "  <thead>\n",
       "    <tr style=\"text-align: right;\">\n",
       "      <th></th>\n",
       "      <th>url</th>\n",
       "      <th>url_length</th>\n",
       "      <th>is_blacklisted</th>\n",
       "      <th>is_IPbased</th>\n",
       "      <th>domain_age</th>\n",
       "      <th>FreeURL_dot_cnt</th>\n",
       "      <th>level_domain_cnt</th>\n",
       "      <th>FQDN_length</th>\n",
       "      <th>mld_length</th>\n",
       "      <th>url_terms_cnt</th>\n",
       "      <th>RDNRank</th>\n",
       "      <th>domain_provider</th>\n",
       "      <th>domain_valid_period</th>\n",
       "      <th>mld</th>\n",
       "    </tr>\n",
       "  </thead>\n",
       "  <tbody>\n",
       "    <tr>\n",
       "      <th>0</th>\n",
       "      <td>https://www.slideshare.net/weaveworks/client-s...</td>\n",
       "      <td>76</td>\n",
       "      <td>False</td>\n",
       "      <td>False</td>\n",
       "      <td>5108.0</td>\n",
       "      <td>0</td>\n",
       "      <td>3.0</td>\n",
       "      <td>18.0</td>\n",
       "      <td>10.0</td>\n",
       "      <td>9</td>\n",
       "      <td>91</td>\n",
       "      <td>MarkMonitor, Inc.</td>\n",
       "      <td>6209.0</td>\n",
       "      <td>slideshare</td>\n",
       "    </tr>\n",
       "    <tr>\n",
       "      <th>1</th>\n",
       "      <td>http://cartaobndes.gov.br.cv31792.tmweb.ru/</td>\n",
       "      <td>43</td>\n",
       "      <td>True</td>\n",
       "      <td>False</td>\n",
       "      <td>5023.0</td>\n",
       "      <td>3</td>\n",
       "      <td>6.0</td>\n",
       "      <td>35.0</td>\n",
       "      <td>5.0</td>\n",
       "      <td>6</td>\n",
       "      <td>3910</td>\n",
       "      <td>TIMEWEB-RU</td>\n",
       "      <td>5114.0</td>\n",
       "      <td>tmweb</td>\n",
       "    </tr>\n",
       "    <tr>\n",
       "      <th>2</th>\n",
       "      <td>https://paypal.co.uk.yatn.eu/m/</td>\n",
       "      <td>31</td>\n",
       "      <td>True</td>\n",
       "      <td>False</td>\n",
       "      <td>NaN</td>\n",
       "      <td>2</td>\n",
       "      <td>5.0</td>\n",
       "      <td>20.0</td>\n",
       "      <td>4.0</td>\n",
       "      <td>6</td>\n",
       "      <td>1000001</td>\n",
       "      <td>None</td>\n",
       "      <td>NaN</td>\n",
       "      <td>yatn</td>\n",
       "    </tr>\n",
       "    <tr>\n",
       "      <th>3</th>\n",
       "      <td>http://college-eisk.ru/cli/</td>\n",
       "      <td>27</td>\n",
       "      <td>True</td>\n",
       "      <td>False</td>\n",
       "      <td>3091.0</td>\n",
       "      <td>0</td>\n",
       "      <td>2.0</td>\n",
       "      <td>15.0</td>\n",
       "      <td>12.0</td>\n",
       "      <td>4</td>\n",
       "      <td>1000001</td>\n",
       "      <td>R01-RU</td>\n",
       "      <td>3288.0</td>\n",
       "      <td>college-eisk</td>\n",
       "    </tr>\n",
       "    <tr>\n",
       "      <th>4</th>\n",
       "      <td>https://dotpay-platnosc3.eu/dotpay/</td>\n",
       "      <td>35</td>\n",
       "      <td>False</td>\n",
       "      <td>False</td>\n",
       "      <td>NaN</td>\n",
       "      <td>0</td>\n",
       "      <td>2.0</td>\n",
       "      <td>19.0</td>\n",
       "      <td>16.0</td>\n",
       "      <td>4</td>\n",
       "      <td>1000001</td>\n",
       "      <td>None</td>\n",
       "      <td>NaN</td>\n",
       "      <td>dotpay-platnosc3</td>\n",
       "    </tr>\n",
       "    <tr>\n",
       "      <th>5</th>\n",
       "      <td>https://www.amazon.co.uk/ap/signin?encoding=UTF8</td>\n",
       "      <td>48</td>\n",
       "      <td>False</td>\n",
       "      <td>False</td>\n",
       "      <td>8642.0</td>\n",
       "      <td>0</td>\n",
       "      <td>4.0</td>\n",
       "      <td>16.0</td>\n",
       "      <td>6.0</td>\n",
       "      <td>6</td>\n",
       "      <td>194</td>\n",
       "      <td>Amazon.com, Inc. t/a Amazon.com, Inc. [Tag = A...</td>\n",
       "      <td>NaN</td>\n",
       "      <td>amazon</td>\n",
       "    </tr>\n",
       "    <tr>\n",
       "      <th>6</th>\n",
       "      <td>http://192.168.0.1/paypal.cgi?fixaccount</td>\n",
       "      <td>40</td>\n",
       "      <td>False</td>\n",
       "      <td>True</td>\n",
       "      <td>NaN</td>\n",
       "      <td>1</td>\n",
       "      <td>NaN</td>\n",
       "      <td>NaN</td>\n",
       "      <td>NaN</td>\n",
       "      <td>1</td>\n",
       "      <td>1000001</td>\n",
       "      <td>None</td>\n",
       "      <td>NaN</td>\n",
       "      <td>192.168.0.1</td>\n",
       "    </tr>\n",
       "  </tbody>\n",
       "</table>\n",
       "</div>"
      ],
      "text/plain": [
       "                                                 url  url_length  \\\n",
       "0  https://www.slideshare.net/weaveworks/client-s...          76   \n",
       "1        http://cartaobndes.gov.br.cv31792.tmweb.ru/          43   \n",
       "2                    https://paypal.co.uk.yatn.eu/m/          31   \n",
       "3                        http://college-eisk.ru/cli/          27   \n",
       "4                https://dotpay-platnosc3.eu/dotpay/          35   \n",
       "5   https://www.amazon.co.uk/ap/signin?encoding=UTF8          48   \n",
       "6           http://192.168.0.1/paypal.cgi?fixaccount          40   \n",
       "\n",
       "   is_blacklisted  is_IPbased  domain_age  FreeURL_dot_cnt  level_domain_cnt  \\\n",
       "0           False       False      5108.0                0               3.0   \n",
       "1            True       False      5023.0                3               6.0   \n",
       "2            True       False         NaN                2               5.0   \n",
       "3            True       False      3091.0                0               2.0   \n",
       "4           False       False         NaN                0               2.0   \n",
       "5           False       False      8642.0                0               4.0   \n",
       "6           False        True         NaN                1               NaN   \n",
       "\n",
       "   FQDN_length  mld_length  url_terms_cnt  RDNRank  \\\n",
       "0         18.0        10.0              9       91   \n",
       "1         35.0         5.0              6     3910   \n",
       "2         20.0         4.0              6  1000001   \n",
       "3         15.0        12.0              4  1000001   \n",
       "4         19.0        16.0              4  1000001   \n",
       "5         16.0         6.0              6      194   \n",
       "6          NaN         NaN              1  1000001   \n",
       "\n",
       "                                     domain_provider  domain_valid_period  \\\n",
       "0                                  MarkMonitor, Inc.               6209.0   \n",
       "1                                         TIMEWEB-RU               5114.0   \n",
       "2                                               None                  NaN   \n",
       "3                                             R01-RU               3288.0   \n",
       "4                                               None                  NaN   \n",
       "5  Amazon.com, Inc. t/a Amazon.com, Inc. [Tag = A...                  NaN   \n",
       "6                                               None                  NaN   \n",
       "\n",
       "                mld  \n",
       "0        slideshare  \n",
       "1             tmweb  \n",
       "2              yatn  \n",
       "3      college-eisk  \n",
       "4  dotpay-platnosc3  \n",
       "5            amazon  \n",
       "6       192.168.0.1  "
      ]
     },
     "execution_count": 70,
     "metadata": {},
     "output_type": "execute_result"
    }
   ],
   "source": [
    "urls_features_df.head(7)"
   ]
  },
  {
   "cell_type": "code",
   "execution_count": 71,
   "metadata": {},
   "outputs": [],
   "source": [
    "# write the extracted features to csv file\n",
    "urls_features_df.to_csv ('url_features.csv', index = False, header=True)"
   ]
  },
  {
   "cell_type": "markdown",
   "metadata": {},
   "source": [
    "The original majestic_million file contains many unnecessary columns for this project and is too large\n",
    "so here we keep only necessary columns\n",
    "\n",
    "\n",
    "```Majestic_million_list = pd.read_csv(\"majestic_million.csv\")[['GlobalRank', 'Domain']]\n",
    "Majestic_million_list.to_csv ('majestic_million.csv', index = True, header=True)```"
   ]
  },
  {
   "cell_type": "markdown",
   "metadata": {},
   "source": [
    "## Features that need to be obtained by actually visiting the page, thus be cautions and use only legitimate website to test following functions \n",
    "\n",
    "Features include:\n",
    "- Number of Redirection"
   ]
  },
  {
   "cell_type": "markdown",
   "metadata": {},
   "source": [
    "#### Number of Redirection"
   ]
  },
  {
   "cell_type": "code",
   "execution_count": 72,
   "metadata": {},
   "outputs": [],
   "source": [
    "def get_redirect_chain(url):\n",
    "    res = requests.get(url)\n",
    "    redirect_number = len(res.history)\n",
    "    landing_url = res.url\n",
    "\n",
    "    redirect_chain = []\n",
    "    if res.history:\n",
    "        for responses in res.history:\n",
    "            redirect_chain.append(responses.url)\n",
    "\n",
    "    # adding landing url\n",
    "    redirect_chain.append(landing_url)\n",
    "    return redirect_chain"
   ]
  },
  {
   "cell_type": "code",
   "execution_count": 73,
   "metadata": {},
   "outputs": [
    {
     "name": "stdout",
     "output_type": "stream",
     "text": [
      "0\n",
      "http://www.example.org/\n"
     ]
    }
   ],
   "source": [
    "test_url = 'http://www.example.org'\n",
    "redirect_chain = get_redirect_chain(test_url)\n",
    "\n",
    "redirect_number = len(redirect_chain) - 1\n",
    "landing_url = redirect_chain[-1]\n",
    "print(redirect_number)\n",
    "print(landing_url)"
   ]
  },
  {
   "cell_type": "markdown",
   "metadata": {},
   "source": [
    "#### Parse webpage content\n",
    "\n",
    "- Title\n",
    "- Text\n",
    "- HREF links\n",
    "- Image urls\n",
    "\n",
    "\n",
    "### to do: write a function to validate url"
   ]
  },
  {
   "cell_type": "code",
   "execution_count": 74,
   "metadata": {},
   "outputs": [],
   "source": [
    "def get_website_hyperlinks(tree):\n",
    "    hyperlinks = []\n",
    "    for atag in tree.xpath('//a[@href]'):\n",
    "        hyperlinks.append(atag.attrib['href'])\n",
    "        # print(atag.attrib['href'], atag.text_content())\n",
    "    return hyperlinks"
   ]
  },
  {
   "cell_type": "code",
   "execution_count": 75,
   "metadata": {},
   "outputs": [],
   "source": [
    "def get_website_text(page_content):\n",
    "    h = html2text.HTML2Text()\n",
    "    h.ignore_links = True\n",
    "    text = h.handle(page_content)\n",
    "    # Escapte special characters and spaces\n",
    "    return \" \".join(re.findall(r\"(?i)\\b[a-z]+\\b\", text))"
   ]
  },
  {
   "cell_type": "code",
   "execution_count": 76,
   "metadata": {},
   "outputs": [],
   "source": [
    "# linked image url\n",
    "def get_website_iURLs(tree):\n",
    "    iURLs = []\n",
    "    for imgtag in tree.xpath('//img[@src]'):\n",
    "        iURLs.append(imgtag.attrib['src'])\n",
    "    return iURLs"
   ]
  },
  {
   "cell_type": "code",
   "execution_count": 77,
   "metadata": {},
   "outputs": [],
   "source": [
    "def get_website_style_tags(tree):\n",
    "    style_tags = []\n",
    "    for element in tree.xpath('//@style'):\n",
    "        # print(element)\n",
    "        style_tags.append(element)\n",
    "    return style_tags"
   ]
  },
  {
   "cell_type": "code",
   "execution_count": 78,
   "metadata": {},
   "outputs": [],
   "source": [
    "# SS_URL: external  style  sheets\n",
    "def get_website_SS_URLs(tree):\n",
    "    SS_URLs = []\n",
    "    for linktag in tree.xpath('//link[(@rel=\"stylesheet\" or @type=\"text/css\") and @href]'):\n",
    "        SS_URLs.append(linktag.attrib['href'])\n",
    "    return SS_URLs"
   ]
  },
  {
   "cell_type": "code",
   "execution_count": 79,
   "metadata": {},
   "outputs": [],
   "source": [
    "def parse_web_content(url):\n",
    "    web_content = {'title': '', 'text': '',\n",
    "                   'input_number': 0, 'iframe_number': 0,\n",
    "                  'img_urls': [], 'href_links': [],\n",
    "                  'styles': [], 'SS_urls': []}\n",
    "\n",
    "    page = requests.get(url)\n",
    "    page_content = page.content.decode(page.encoding)\n",
    "    tree = html.fromstring(page_content)\n",
    "\n",
    "    title_raw = tree.xpath('//title')[0].text_content()\n",
    "    web_content['title'] = \" \".join(re.findall(r\"(?i)\\b[a-z]+\\b\", title_raw))\n",
    "    web_content['text'] = get_website_text(page_content)\n",
    "    web_content['iframe_number'] = len(tree.xpath('//iframe'))\n",
    "    web_content['input_number'] = len(tree.xpath('//input'))\n",
    "    web_content['img_urls'] = get_website_iURLs(tree)\n",
    "    web_content['href_links'] = get_website_hyperlinks(tree)\n",
    "    web_content['styles'] = get_website_style_tags(tree)\n",
    "    web_content['SS_urls'] = get_website_SS_URLs(tree)\n",
    "\n",
    "    return web_content"
   ]
  },
  {
   "cell_type": "code",
   "execution_count": 80,
   "metadata": {},
   "outputs": [
    {
     "name": "stdout",
     "output_type": "stream",
     "text": [
      "{'title': 'Robot Check', 'text': 'Enter the characters you see below Sorry we just need to make sure you re not a robot For best results please make sure your browser is accepting cookies Type the characters you see in this image https images na ssl images amazon com captcha druexhzz jpg Try different image Continue shopping Conditions of Use Sale Privacy Notice C Amazon com Inc or its affiliates https fls eu amazon co uk oc csi OP requestId js', 'input_number': 3, 'iframe_number': 0, 'img_urls': ['https://images-na.ssl-images-amazon.com/captcha/druexhzz/Captcha_epfxdkhhqi.jpg', 'https://fls-eu.amazon.co.uk/1/oc-csi/1/OP/requestId=MRA0MGHW54G0M6X5P0BN&js=0'], 'href_links': ['https://www.amazon.co.uk/gp/help/customer/display.html/ref=footer_cou?ie=UTF8&nodeId=1040616', 'https://www.amazon.co.uk/gp/help/customer/display.html/ref=footer_privacy?ie=UTF8&nodeId=502584'], 'styles': ['min-width:350px;padding:44px 0 !important', 'width: 350px; margin: 0 auto'], 'SS_urls': ['https://images-na.ssl-images-amazon.com/images/G/01/AUIClients/AmazonUI-3c913031596ca78a3768f4e934b1cc02ce238101.secure.min._V1_.css']}\n"
     ]
    }
   ],
   "source": [
    "test_url = 'https://www.amazon.co.uk'\n",
    "web_content = parse_web_content(test_url)\n",
    "print(web_content)"
   ]
  },
  {
   "cell_type": "code",
   "execution_count": 81,
   "metadata": {},
   "outputs": [],
   "source": [
    "def get_FreeURL(url):\n",
    "    # relative reference\n",
    "    regex = re.compile(r'^(?:http|ftp)s?://', re.IGNORECASE)\n",
    "    if not re.match(regex, url):\n",
    "        return ''\n",
    "\n",
    "    ext_result = tldextract.extract(url)\n",
    "    FQDN = '.'.join(part for part in ext_result if part)\n",
    "\n",
    "    FreeURL = ext_result.subdomain + ',' + url.split(FQDN)[1]\n",
    "    return FreeURL"
   ]
  },
  {
   "cell_type": "code",
   "execution_count": 82,
   "metadata": {},
   "outputs": [],
   "source": [
    "def is_mld_in_href_FreeURL(href_links, mld):\n",
    "    for href_link in href_links:\n",
    "        FreeURL = get_FreeURL(href_link)\n",
    "        if mld in FreeURL:\n",
    "            return True\n",
    "    return False"
   ]
  },
  {
   "cell_type": "code",
   "execution_count": 83,
   "metadata": {},
   "outputs": [],
   "source": [
    "def get_url_homepage(url):\n",
    "    ext_result = tldextract.extract(url)\n",
    "    protocol = url.split(\"://\")[0]\n",
    "\n",
    "    homepage_url =  protocol + \"://\"\n",
    "    if ext_result.subdomain == 'www':\n",
    "        homepage_url += 'www.'\n",
    "\n",
    "    homepage_url += ext_result.registered_domain\n",
    "    if url[-1] == '/':\n",
    "        homepage_url += '/'\n",
    "\n",
    "    return homepage_url"
   ]
  },
  {
   "cell_type": "code",
   "execution_count": 84,
   "metadata": {},
   "outputs": [
    {
     "name": "stdout",
     "output_type": "stream",
     "text": [
      "http://twitter.com/\n",
      "True\n",
      "http://github.com\n",
      "True\n",
      "http://www.yahoo.com/\n",
      "True\n",
      "http://www.google.com/\n",
      "True\n",
      "https://www.amazon.co.uk\n",
      "False\n"
     ]
    }
   ],
   "source": [
    "example_urls = [\"http://twitter.com/\",\n",
    "                \"http://github.com\",\n",
    "                \"http://www.yahoo.com/\",\n",
    "                \"http://www.google.com/\",\n",
    "                \"https://www.amazon.co.uk/ap/signin?encoding=UTF8\"\n",
    "               ]\n",
    "for url in example_urls:\n",
    "    print(get_url_homepage(url))\n",
    "    print(url == get_url_homepage(url))"
   ]
  },
  {
   "cell_type": "code",
   "execution_count": 85,
   "metadata": {},
   "outputs": [],
   "source": [
    "def jaccard_similarity(list1, list2):\n",
    "    if not len(list1) and not len(list1):\n",
    "        return 1\n",
    "        \n",
    "    s1 = set(list1)\n",
    "    s2 = set(list2)\n",
    "    return len(s1.intersection(s2)) / len(s1.union(s2))"
   ]
  },
  {
   "cell_type": "code",
   "execution_count": 86,
   "metadata": {},
   "outputs": [],
   "source": [
    "def initialize_comparison_features():\n",
    "    return {'hyper_link_jaccard': 1, 'hyper_link_mld_jaccard': 1,\n",
    "            'ss_jaccard': 1, 'ss_url_jaccard': 1,\n",
    "            'ss_url_mld_jaccard': 1, 'img_url_jaccard': 1,\n",
    "            'img_url_mld_jaccard': 1, 'title_jaccard': 1,\n",
    "            'is_hompage_linked': 1}"
   ]
  },
  {
   "cell_type": "code",
   "execution_count": 87,
   "metadata": {},
   "outputs": [],
   "source": [
    "def get_mld_of_urls(urls):\n",
    "    mlds = []\n",
    "    for url in urls:\n",
    "        mlds.append(tldextract.extract(url).domain)\n",
    "    return mlds"
   ]
  },
  {
   "cell_type": "code",
   "execution_count": 88,
   "metadata": {},
   "outputs": [],
   "source": [
    "def analyze_comparison_features(homepage_content, inputpage_content):\n",
    "    comparison_features = initialize_comparison_features()\n",
    "    comparison_features['hyper_link_jaccard'] = jaccard_similarity(homepage_content['href_links'],\n",
    "                                                                 inputpage_content['href_links'])\n",
    "    homepage_hyper_link_mlds = get_mld_of_urls(homepage_content['href_links'])\n",
    "    inputpage_hyper_link_mlds = get_mld_of_urls(inputpage_content['href_links'])    \n",
    "    comparison_features['hyper_link_mld_jaccard'] = jaccard_similarity(homepage_hyper_link_mlds,\n",
    "                                                                      inputpage_hyper_link_mlds)\n",
    "\n",
    "    comparison_features['ss_jaccard'] = jaccard_similarity(homepage_content['styles'],\n",
    "                                                          inputpage_content['styles'])\n",
    "\n",
    "   # external style sheets \n",
    "    comparison_features['ss_url_jaccard'] = jaccard_similarity(homepage_content['SS_urls'],\n",
    "                                                          inputpage_content['SS_urls'])\n",
    "    homepage_ss_url_mlds = get_mld_of_urls(homepage_content['SS_urls'])\n",
    "    inputpage_ss_url_mlds = get_mld_of_urls(inputpage_content['SS_urls'])    \n",
    "    comparison_features['ss_url_mld_jaccard'] = jaccard_similarity(homepage_ss_url_mlds,\n",
    "                                                                   inputpage_ss_url_mlds)\n",
    "\n",
    "    # image url\n",
    "    comparison_features['img_url_jaccard'] = jaccard_similarity(homepage_content['img_urls'],\n",
    "                                                          inputpage_content['img_urls'])\n",
    "    homepage_img_url_mlds = get_mld_of_urls(homepage_content['img_urls'])\n",
    "    inputpage_img_url_mlds = get_mld_of_urls(inputpage_content['img_urls'])    \n",
    "    comparison_features['img_url_mld_jaccard'] = jaccard_similarity(homepage_img_url_mlds,\n",
    "                                                                   inputpage_img_url_mlds)\n",
    "\n",
    "\n",
    "    # title\n",
    "    comparison_features['title_jaccard'] = jaccard_similarity(homepage_content['title'].split(' '),\n",
    "                                                          inputpage_content['title'].split(' '))\n",
    "\n",
    "    return comparison_features"
   ]
  },
  {
   "cell_type": "code",
   "execution_count": 89,
   "metadata": {},
   "outputs": [],
   "source": [
    "# all the features that need to be obtained by actually sending http request to the page\n",
    "def analyze_page_visit_features(url, mld_of_starting_url):\n",
    "    page_visit_features = {'redirect_number': 0, 'landing_url': url,\n",
    "                           'title_term_cnt': 0, 'text_term_cnt': 0,\n",
    "                           'iframe_number': 0, 'input_number': 0,\n",
    "                           'image_number': 0, 'href_number': 0,\n",
    "                           'mld_equals': False, 'starting_mld_in_title': False,\n",
    "                           'starting_mld_in_text': False, 'starting_mld_in_href_FreeURL':False,\n",
    "                           'landing_mld_in_title': False, 'landing_mld_in_text': False,\n",
    "                           'landing_mld_in_href_FreeURL': False\n",
    "                          }\n",
    "\n",
    "    redirect_chain = get_redirect_chain(url)\n",
    "    landing_url = redirect_chain[-1]\n",
    "\n",
    "    page_visit_features['redirect_number'] = len(redirect_chain) - 1\n",
    "    page_visit_features['landing_url'] = landing_url\n",
    "\n",
    "    web_content = parse_web_content(url)\n",
    "    page_visit_features['title_term_cnt'] = len(web_content['title'].split(' '))\n",
    "    page_visit_features['text_term_cnt'] = len(web_content['text'].split(' '))\n",
    "    page_visit_features['iframe_number'] = web_content['iframe_number']\n",
    "    page_visit_features['input_number'] = web_content['input_number']\n",
    "    page_visit_features['image_number'] = len(web_content['img_urls'])\n",
    "    page_visit_features['href_number'] = len(web_content['href_links'])\n",
    "\n",
    "    page_visit_features['starting_mld_in_title'] = mld_of_starting_url in web_content['title'].lower()\n",
    "    page_visit_features['starting_mld_in_text'] = mld_of_starting_url in web_content['text'].lower()\n",
    "    mld_of_landing_url =  tldextract.extract(landing_url).domain  \n",
    "    if mld_of_landing_url == mld_of_starting_url:\n",
    "        page_visit_features['mld_equals'] = True\n",
    "        page_visit_features['landing_mld_in_title'] = page_visit_features['starting_mld_in_title']\n",
    "        page_visit_features['landing_mld_in_text'] = page_visit_features['starting_mld_in_text']\n",
    "    else:\n",
    "        page_visit_features['landing_mld_in_title'] = mld_of_landing_url in web_content['title'].lower()\n",
    "        page_visit_features['landing_mld_in_text'] = mld_of_landing_url in web_content['text'].lower()\n",
    "\n",
    "    page_visit_features['starting_mld_in_href_FreeURL'] = is_mld_in_href_FreeURL(web_content['href_links'],\n",
    "                                                                                 mld_of_starting_url)\n",
    "    page_visit_features['landing_mld_in_href_FreeURL'] = is_mld_in_href_FreeURL(web_content['href_links'],\n",
    "                                                                                 mld_of_landing_url)\n",
    "\n",
    "\n",
    "    # comparison features\n",
    "    comparison_features = initialize_comparison_features()\n",
    "    homepage_url = get_url_homepage(url)\n",
    "    if homepage_url != url:\n",
    "        homepage_content = parse_web_content(homepage_url)\n",
    "        comparison_features = analyze_comparison_features(homepage_content, web_content)\n",
    "\n",
    "        comparison_features['is_hompage_linked'] = 1 if homepage_url in web_content['href_links'] else 0\n",
    "\n",
    "    page_visit_features.update(comparison_features)\n",
    "    return page_visit_features"
   ]
  },
  {
   "cell_type": "code",
   "execution_count": 90,
   "metadata": {},
   "outputs": [
    {
     "data": {
      "text/plain": [
       "{'redirect_number': 0,\n",
       " 'landing_url': 'https://www.amazon.co.uk/ap/signin?encoding=UTF8',\n",
       " 'title_term_cnt': 1,\n",
       " 'text_term_cnt': 70,\n",
       " 'iframe_number': 0,\n",
       " 'input_number': 0,\n",
       " 'image_number': 3,\n",
       " 'href_number': 1,\n",
       " 'mld_equals': True,\n",
       " 'starting_mld_in_title': False,\n",
       " 'starting_mld_in_text': True,\n",
       " 'starting_mld_in_href_FreeURL': False,\n",
       " 'landing_mld_in_title': False,\n",
       " 'landing_mld_in_text': True,\n",
       " 'landing_mld_in_href_FreeURL': False,\n",
       " 'hyper_link_jaccard': 0.0,\n",
       " 'hyper_link_mld_jaccard': 0.08333333333333333,\n",
       " 'ss_jaccard': 0.0,\n",
       " 'ss_url_jaccard': 0.0,\n",
       " 'ss_url_mld_jaccard': 1.0,\n",
       " 'img_url_jaccard': 0.0,\n",
       " 'img_url_mld_jaccard': 0.5,\n",
       " 'title_jaccard': 0.0,\n",
       " 'is_hompage_linked': 1}"
      ]
     },
     "execution_count": 90,
     "metadata": {},
     "output_type": "execute_result"
    }
   ],
   "source": [
    "test_url = \"https://www.amazon.co.uk/ap/signin?encoding=UTF8\"\n",
    "analyze_page_visit_features(test_url, 'amazon')"
   ]
  },
  {
   "cell_type": "code",
   "execution_count": 91,
   "metadata": {},
   "outputs": [
    {
     "name": "stdout",
     "output_type": "stream",
     "text": [
      "{'url': 'https://www.amazon.co.uk/ap/signin?encoding=UTF8', 'url_length': 48, 'is_blacklisted': False, 'is_IPbased': False, 'domain_age': 8642, 'FreeURL_dot_cnt': 0, 'level_domain_cnt': 4, 'FQDN_length': 16, 'mld_length': 6, 'url_terms_cnt': 6, 'RDNRank': 194, 'domain_provider': 'Amazon.com, Inc. t/a Amazon.com, Inc. [Tag = AMAZON-COM]', 'domain_valid_period': None, 'mld': 'amazon', 'redirect_number': 0, 'landing_url': 'https://www.amazon.co.uk/ap/signin?encoding=UTF8', 'title_term_cnt': 1, 'text_term_cnt': 70, 'iframe_number': 0, 'input_number': 0, 'image_number': 3, 'href_number': 1, 'mld_equals': True, 'starting_mld_in_title': False, 'starting_mld_in_text': True, 'starting_mld_in_href_FreeURL': False, 'landing_mld_in_title': False, 'landing_mld_in_text': True, 'landing_mld_in_href_FreeURL': False, 'hyper_link_jaccard': 0.0, 'hyper_link_mld_jaccard': 1.0, 'ss_jaccard': 0.0, 'ss_url_jaccard': 0.0, 'ss_url_mld_jaccard': 1.0, 'img_url_jaccard': 0.0, 'img_url_mld_jaccard': 0.5, 'title_jaccard': 0.0, 'is_hompage_linked': 1}\n"
     ]
    }
   ],
   "source": [
    "test_url = \"https://www.amazon.co.uk/ap/signin?encoding=UTF8\"\n",
    "features_dict = analyze_url_features(test_url, Majestic_million_list)\n",
    "features_dict.update(analyze_page_visit_features(test_url, features_dict['mld']))\n",
    "print(features_dict)"
   ]
  },
  {
   "cell_type": "code",
   "execution_count": 92,
   "metadata": {},
   "outputs": [],
   "source": [
    "example_urls = [\"http://twitter.com/\",\n",
    "                \"http://github.com\",\n",
    "                \"http://www.yahoo.com/\",\n",
    "                \"http://www.google.com/\",\n",
    "                \"https://www.amazon.co.uk/ap/signin?encoding=UTF8\"\n",
    "               ]\n",
    "\n",
    "all_features = []\n",
    "for url in example_urls:\n",
    "    features_dict = analyze_url_features(url, Majestic_million_list)\n",
    "    features_dict.update(analyze_page_visit_features(url, features_dict['mld']))\n",
    "    del features_dict[\"mld\"]\n",
    "    all_features.append(features_dict)\n",
    "    time.sleep(30)"
   ]
  },
  {
   "cell_type": "code",
   "execution_count": null,
   "metadata": {},
   "outputs": [],
   "source": [
    "all_features_df = pd.DataFrame(all_features)\n",
    "all_features_df.head()"
   ]
  },
  {
   "cell_type": "markdown",
   "metadata": {},
   "source": [
    "## Compute feature sets by comparing the characteristics of the input page and those of the homepag. Ref from [DeltaPhish](https://arxiv.org/pdf/1707.00317.pdf)"
   ]
  },
  {
   "cell_type": "markdown",
   "metadata": {},
   "source": [
    "#### About relative url and absolute url [here](http://www.dirigodev.com/blog/seo-web-best-practices/relative-vs-absolute-urls-seo/)\n"
   ]
  }
 ],
 "metadata": {
  "kernelspec": {
   "display_name": "Python 3",
   "language": "python",
   "name": "python3"
  },
  "language_info": {
   "codemirror_mode": {
    "name": "ipython",
    "version": 3
   },
   "file_extension": ".py",
   "mimetype": "text/x-python",
   "name": "python",
   "nbconvert_exporter": "python",
   "pygments_lexer": "ipython3",
   "version": "3.7.6"
  }
 },
 "nbformat": 4,
 "nbformat_minor": 2
}
