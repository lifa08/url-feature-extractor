{
 "cells": [
  {
   "cell_type": "code",
   "execution_count": 1,
   "metadata": {},
   "outputs": [],
   "source": [
    "import requests\n",
    "import json\n",
    "from urllib.parse import urlparse\n",
    "import pandas as pd "
   ]
  },
  {
   "cell_type": "code",
   "execution_count": 2,
   "metadata": {},
   "outputs": [],
   "source": [
    "# components includes: FQDN(fully qualified domain name), mld(main level domain), FreeURL, RDN(registered domain name)\n",
    "# ref https://arxiv.org/pdf/1510.06501.pdf\n",
    "def parse_url_components(url):\n",
    "    parse_result = urlparse(url)\n",
    "    FQDN = parse_result.netloc\n",
    "\n",
    "    FQDN_parts = FQDN.split('.')\n",
    "    mld = FQDN_parts[-2]\n",
    "    RDN = '.'.join(FQDN_parts[-2:])\n",
    "\n",
    "    FreeURL = '.'.join(FQDN_parts[0:-2])\n",
    "    if parse_result.path:\n",
    "        FreeURL +=  ',' +  parse_result.path\n",
    "    if parse_result.query:\n",
    "        FreeURL += parse_result.query\n",
    "\n",
    "    url_components = {'FQDN': FQDN, 'RDN': RDN, 'mld': mld, 'FreeURL': FreeURL}\n",
    "    return url_components"
   ]
  },
  {
   "cell_type": "code",
   "execution_count": 3,
   "metadata": {},
   "outputs": [],
   "source": [
    "def get_domain_age_in_days(domain):\n",
    "    show = \"https://input.payapi.io/v1/api/fraud/domain/age/\" + domain\n",
    "    data = requests.get(show).json()\n",
    "    return data['result'] if 'result' in data else None"
   ]
  },
  {
   "cell_type": "markdown",
   "metadata": {},
   "source": [
    "#### Phishing  URL  and  domain  name  obfuscation  techniques tend  to  produce  long  URLs  composed  of  many  terms. [ref](https://arxiv.org/pdf/1510.06501.pdf)"
   ]
  },
  {
   "cell_type": "code",
   "execution_count": 36,
   "metadata": {},
   "outputs": [],
   "source": [
    "def analyze_url(url, Majestic_million_list):\n",
    "    url_features = {'url': url}\n",
    "\n",
    "    url_components = parse_url_components(url)\n",
    "    # First feature, if domain is new it could indicate that the bad guy has bought it recently...\n",
    "    age_in_days_feature = get_domain_age_in_days(url_components['RDN'])\n",
    "    url_features['age_in_days_feature'] = age_in_days_feature if age_in_days_feature else None\n",
    "\n",
    "    FreeURL_dot_cnt = url_components['FreeURL'].count('.')\n",
    "    url_features['FreeURL_dot_cnt'] = FreeURL_dot_cnt\n",
    "\n",
    "    level_domain_cnt = url_components['FQDN'].count('.') + 1\n",
    "    url_features['level_domain_cnt'] = level_domain_cnt\n",
    "\n",
    "    url_length = len(url)\n",
    "    url_features['url_length'] = url_length\n",
    "\n",
    "    # FQDN: fully qualified domain name\n",
    "    FQDN_length = len(url_components['FQDN'])\n",
    "    url_features['FQDN_length'] = FQDN_length\n",
    "    \n",
    "    # mld: main level domain\n",
    "    mld_length = len(url_components['mld'])\n",
    "    url_features['mld_length'] = mld_length\n",
    "\n",
    "    url_terms_cnt = url_components['FQDN'].count('.') + 1\n",
    "    for parts in url_components['FreeURL'].split(',')[1:]:\n",
    "        # when url ends with /\n",
    "        if parts[-1] == '/':\n",
    "            url_terms_cnt +=  parts.count('/') - 1\n",
    "        else:\n",
    "            url_terms_cnt +=  parts.count('/')\n",
    "    url_features['url_terms_cnt'] = url_terms_cnt\n",
    "\n",
    "    # Majestic ranking of the RDN, can also use Alexa ranking but the complete list cost\n",
    "    RDNRank = 1000001 # default to 1000001 for those websites not in the Majestic million list\n",
    "    RDN_row = Majestic_million_list[Majestic_million_list['Domain'] == url_components['RDN']]\n",
    "    if len(RDN_row):\n",
    "        RDNRank = RDN_row.iloc[0]['GlobalRank']\n",
    "    url_features['RDNRank'] = RDNRank\n",
    "\n",
    "    #print(url_features)\n",
    "    return url_features"
   ]
  },
  {
   "cell_type": "code",
   "execution_count": 5,
   "metadata": {},
   "outputs": [],
   "source": [
    "Majestic_million_list = pd.read_csv(\"majestic_million.csv\")[['GlobalRank', 'Domain']]"
   ]
  },
  {
   "cell_type": "code",
   "execution_count": 6,
   "metadata": {},
   "outputs": [
    {
     "data": {
      "text/html": [
       "<div>\n",
       "<style scoped>\n",
       "    .dataframe tbody tr th:only-of-type {\n",
       "        vertical-align: middle;\n",
       "    }\n",
       "\n",
       "    .dataframe tbody tr th {\n",
       "        vertical-align: top;\n",
       "    }\n",
       "\n",
       "    .dataframe thead th {\n",
       "        text-align: right;\n",
       "    }\n",
       "</style>\n",
       "<table border=\"1\" class=\"dataframe\">\n",
       "  <thead>\n",
       "    <tr style=\"text-align: right;\">\n",
       "      <th></th>\n",
       "      <th>GlobalRank</th>\n",
       "      <th>Domain</th>\n",
       "    </tr>\n",
       "  </thead>\n",
       "  <tbody>\n",
       "    <tr>\n",
       "      <td>0</td>\n",
       "      <td>1</td>\n",
       "      <td>facebook.com</td>\n",
       "    </tr>\n",
       "    <tr>\n",
       "      <td>1</td>\n",
       "      <td>2</td>\n",
       "      <td>google.com</td>\n",
       "    </tr>\n",
       "    <tr>\n",
       "      <td>2</td>\n",
       "      <td>3</td>\n",
       "      <td>youtube.com</td>\n",
       "    </tr>\n",
       "    <tr>\n",
       "      <td>3</td>\n",
       "      <td>4</td>\n",
       "      <td>twitter.com</td>\n",
       "    </tr>\n",
       "    <tr>\n",
       "      <td>4</td>\n",
       "      <td>5</td>\n",
       "      <td>instagram.com</td>\n",
       "    </tr>\n",
       "  </tbody>\n",
       "</table>\n",
       "</div>"
      ],
      "text/plain": [
       "   GlobalRank         Domain\n",
       "0           1   facebook.com\n",
       "1           2     google.com\n",
       "2           3    youtube.com\n",
       "3           4    twitter.com\n",
       "4           5  instagram.com"
      ]
     },
     "execution_count": 6,
     "metadata": {},
     "output_type": "execute_result"
    }
   ],
   "source": [
    "Majestic_million_list.head()"
   ]
  },
  {
   "cell_type": "code",
   "execution_count": 37,
   "metadata": {},
   "outputs": [
    {
     "name": "stdout",
     "output_type": "stream",
     "text": [
      "[{'url': 'https://www.slideshare.net/weaveworks/client-side-monitoring-with-prometheus', 'age_in_days_feature': 5104, 'FreeURL_dot_cnt': 0, 'level_domain_cnt': 3, 'url_length': 76, 'FQDN_length': 18, 'mld_length': 10, 'url_terms_cnt': 5, 'RDNRank': 91}, {'url': 'http://cartaobndes.gov.br.cv31792.tmweb.ru/', 'age_in_days_feature': 5018, 'FreeURL_dot_cnt': 3, 'level_domain_cnt': 6, 'url_length': 43, 'FQDN_length': 35, 'mld_length': 5, 'url_terms_cnt': 6, 'RDNRank': 3910}, {'url': 'https://paypal.co.uk.yatn.eu/m/', 'age_in_days_feature': None, 'FreeURL_dot_cnt': 2, 'level_domain_cnt': 5, 'url_length': 31, 'FQDN_length': 20, 'mld_length': 4, 'url_terms_cnt': 6, 'RDNRank': 1000001}, {'url': 'http://college-eisk.ru/cli/', 'age_in_days_feature': 3086, 'FreeURL_dot_cnt': 0, 'level_domain_cnt': 2, 'url_length': 27, 'FQDN_length': 15, 'mld_length': 12, 'url_terms_cnt': 3, 'RDNRank': 1000001}, {'url': 'https://dotpay-platnosc3.eu/dotpay/', 'age_in_days_feature': None, 'FreeURL_dot_cnt': 0, 'level_domain_cnt': 2, 'url_length': 35, 'FQDN_length': 19, 'mld_length': 16, 'url_terms_cnt': 3, 'RDNRank': 1000001}]\n"
     ]
    }
   ],
   "source": [
    "# Note some of these urls are live phishing sites (as of 2019-03-21) use with caution!\n",
    "# More can be found at https://www.phishtank.com/\n",
    "example_urls = [\"https://www.slideshare.net/weaveworks/client-side-monitoring-with-prometheus\",\n",
    "                \"http://cartaobndes.gov.br.cv31792.tmweb.ru/\",\n",
    "                \"https://paypal.co.uk.yatn.eu/m/\",\n",
    "                \"http://college-eisk.ru/cli/\",\n",
    "                \"https://dotpay-platnosc3.eu/dotpay/\"\n",
    "               ]\n",
    "\n",
    "urls_features = []\n",
    "for url in example_urls:\n",
    "    urls_features.append(analyze_url(url, Majestic_million_list))\n",
    "\n",
    "print(urls_features)"
   ]
  },
  {
   "cell_type": "code",
   "execution_count": 38,
   "metadata": {},
   "outputs": [],
   "source": [
    "urls_features_df = pd.DataFrame(urls_features)"
   ]
  },
  {
   "cell_type": "code",
   "execution_count": 39,
   "metadata": {},
   "outputs": [
    {
     "data": {
      "text/html": [
       "<div>\n",
       "<style scoped>\n",
       "    .dataframe tbody tr th:only-of-type {\n",
       "        vertical-align: middle;\n",
       "    }\n",
       "\n",
       "    .dataframe tbody tr th {\n",
       "        vertical-align: top;\n",
       "    }\n",
       "\n",
       "    .dataframe thead th {\n",
       "        text-align: right;\n",
       "    }\n",
       "</style>\n",
       "<table border=\"1\" class=\"dataframe\">\n",
       "  <thead>\n",
       "    <tr style=\"text-align: right;\">\n",
       "      <th></th>\n",
       "      <th>url</th>\n",
       "      <th>age_in_days_feature</th>\n",
       "      <th>FreeURL_dot_cnt</th>\n",
       "      <th>level_domain_cnt</th>\n",
       "      <th>url_length</th>\n",
       "      <th>FQDN_length</th>\n",
       "      <th>mld_length</th>\n",
       "      <th>url_terms_cnt</th>\n",
       "      <th>RDNRank</th>\n",
       "    </tr>\n",
       "  </thead>\n",
       "  <tbody>\n",
       "    <tr>\n",
       "      <td>0</td>\n",
       "      <td>https://www.slideshare.net/weaveworks/client-s...</td>\n",
       "      <td>5104.0</td>\n",
       "      <td>0</td>\n",
       "      <td>3</td>\n",
       "      <td>76</td>\n",
       "      <td>18</td>\n",
       "      <td>10</td>\n",
       "      <td>5</td>\n",
       "      <td>91</td>\n",
       "    </tr>\n",
       "    <tr>\n",
       "      <td>1</td>\n",
       "      <td>http://cartaobndes.gov.br.cv31792.tmweb.ru/</td>\n",
       "      <td>5018.0</td>\n",
       "      <td>3</td>\n",
       "      <td>6</td>\n",
       "      <td>43</td>\n",
       "      <td>35</td>\n",
       "      <td>5</td>\n",
       "      <td>6</td>\n",
       "      <td>3910</td>\n",
       "    </tr>\n",
       "    <tr>\n",
       "      <td>2</td>\n",
       "      <td>https://paypal.co.uk.yatn.eu/m/</td>\n",
       "      <td>NaN</td>\n",
       "      <td>2</td>\n",
       "      <td>5</td>\n",
       "      <td>31</td>\n",
       "      <td>20</td>\n",
       "      <td>4</td>\n",
       "      <td>6</td>\n",
       "      <td>1000001</td>\n",
       "    </tr>\n",
       "    <tr>\n",
       "      <td>3</td>\n",
       "      <td>http://college-eisk.ru/cli/</td>\n",
       "      <td>3086.0</td>\n",
       "      <td>0</td>\n",
       "      <td>2</td>\n",
       "      <td>27</td>\n",
       "      <td>15</td>\n",
       "      <td>12</td>\n",
       "      <td>3</td>\n",
       "      <td>1000001</td>\n",
       "    </tr>\n",
       "    <tr>\n",
       "      <td>4</td>\n",
       "      <td>https://dotpay-platnosc3.eu/dotpay/</td>\n",
       "      <td>NaN</td>\n",
       "      <td>0</td>\n",
       "      <td>2</td>\n",
       "      <td>35</td>\n",
       "      <td>19</td>\n",
       "      <td>16</td>\n",
       "      <td>3</td>\n",
       "      <td>1000001</td>\n",
       "    </tr>\n",
       "  </tbody>\n",
       "</table>\n",
       "</div>"
      ],
      "text/plain": [
       "                                                 url  age_in_days_feature  \\\n",
       "0  https://www.slideshare.net/weaveworks/client-s...               5104.0   \n",
       "1        http://cartaobndes.gov.br.cv31792.tmweb.ru/               5018.0   \n",
       "2                    https://paypal.co.uk.yatn.eu/m/                  NaN   \n",
       "3                        http://college-eisk.ru/cli/               3086.0   \n",
       "4                https://dotpay-platnosc3.eu/dotpay/                  NaN   \n",
       "\n",
       "   FreeURL_dot_cnt  level_domain_cnt  url_length  FQDN_length  mld_length  \\\n",
       "0                0                 3          76           18          10   \n",
       "1                3                 6          43           35           5   \n",
       "2                2                 5          31           20           4   \n",
       "3                0                 2          27           15          12   \n",
       "4                0                 2          35           19          16   \n",
       "\n",
       "   url_terms_cnt  RDNRank  \n",
       "0              5       91  \n",
       "1              6     3910  \n",
       "2              6  1000001  \n",
       "3              3  1000001  \n",
       "4              3  1000001  "
      ]
     },
     "execution_count": 39,
     "metadata": {},
     "output_type": "execute_result"
    }
   ],
   "source": [
    "urls_features_df.head()"
   ]
  },
  {
   "cell_type": "code",
   "execution_count": 41,
   "metadata": {},
   "outputs": [],
   "source": [
    "# write the extracted features to csv file\n",
    "urls_features_df.to_csv ('url_features.csv', index = False, header=True)"
   ]
  }
 ],
 "metadata": {
  "kernelspec": {
   "display_name": "Python 3",
   "language": "python",
   "name": "python3"
  },
  "language_info": {
   "codemirror_mode": {
    "name": "ipython",
    "version": 3
   },
   "file_extension": ".py",
   "mimetype": "text/x-python",
   "name": "python",
   "nbconvert_exporter": "python",
   "pygments_lexer": "ipython3",
   "version": "3.7.4"
  }
 },
 "nbformat": 4,
 "nbformat_minor": 2
}
